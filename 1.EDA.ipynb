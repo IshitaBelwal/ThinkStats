{
 "cells": [
  {
   "cell_type": "code",
   "execution_count": 18,
   "id": "036f86a0",
   "metadata": {},
   "outputs": [],
   "source": [
    "import pandas as pd\n",
    "import numpy as np"
   ]
  },
  {
   "cell_type": "code",
   "execution_count": 20,
   "id": "ac3bcb82",
   "metadata": {},
   "outputs": [],
   "source": [
    "df = pd.read_hdf(\"nsfg.hdf5\")"
   ]
  },
  {
   "cell_type": "code",
   "execution_count": 27,
   "id": "33a0107e",
   "metadata": {},
   "outputs": [
    {
     "data": {
      "text/html": [
       "<div>\n",
       "<style scoped>\n",
       "    .dataframe tbody tr th:only-of-type {\n",
       "        vertical-align: middle;\n",
       "    }\n",
       "\n",
       "    .dataframe tbody tr th {\n",
       "        vertical-align: top;\n",
       "    }\n",
       "\n",
       "    .dataframe thead th {\n",
       "        text-align: right;\n",
       "    }\n",
       "</style>\n",
       "<table border=\"1\" class=\"dataframe\">\n",
       "  <thead>\n",
       "    <tr style=\"text-align: right;\">\n",
       "      <th></th>\n",
       "      <th>caseid</th>\n",
       "      <th>outcome</th>\n",
       "      <th>birthwgt_lb1</th>\n",
       "      <th>birthwgt_oz1</th>\n",
       "      <th>prglngth</th>\n",
       "      <th>nbrnaliv</th>\n",
       "      <th>agecon</th>\n",
       "      <th>agepreg</th>\n",
       "      <th>hpagelb</th>\n",
       "      <th>wgt2013_2015</th>\n",
       "    </tr>\n",
       "  </thead>\n",
       "  <tbody>\n",
       "    <tr>\n",
       "      <th>0</th>\n",
       "      <td>60418</td>\n",
       "      <td>1</td>\n",
       "      <td>5.0</td>\n",
       "      <td>4.0</td>\n",
       "      <td>40</td>\n",
       "      <td>1.0</td>\n",
       "      <td>2000</td>\n",
       "      <td>2075.0</td>\n",
       "      <td>22.0</td>\n",
       "      <td>3554.964843</td>\n",
       "    </tr>\n",
       "    <tr>\n",
       "      <th>1</th>\n",
       "      <td>60418</td>\n",
       "      <td>1</td>\n",
       "      <td>4.0</td>\n",
       "      <td>12.0</td>\n",
       "      <td>36</td>\n",
       "      <td>1.0</td>\n",
       "      <td>2291</td>\n",
       "      <td>2358.0</td>\n",
       "      <td>25.0</td>\n",
       "      <td>3554.964843</td>\n",
       "    </tr>\n",
       "    <tr>\n",
       "      <th>2</th>\n",
       "      <td>60418</td>\n",
       "      <td>1</td>\n",
       "      <td>5.0</td>\n",
       "      <td>4.0</td>\n",
       "      <td>36</td>\n",
       "      <td>1.0</td>\n",
       "      <td>3241</td>\n",
       "      <td>3308.0</td>\n",
       "      <td>52.0</td>\n",
       "      <td>3554.964843</td>\n",
       "    </tr>\n",
       "    <tr>\n",
       "      <th>3</th>\n",
       "      <td>60419</td>\n",
       "      <td>6</td>\n",
       "      <td>NaN</td>\n",
       "      <td>NaN</td>\n",
       "      <td>33</td>\n",
       "      <td>NaN</td>\n",
       "      <td>3650</td>\n",
       "      <td>NaN</td>\n",
       "      <td>NaN</td>\n",
       "      <td>2484.535358</td>\n",
       "    </tr>\n",
       "    <tr>\n",
       "      <th>4</th>\n",
       "      <td>60420</td>\n",
       "      <td>1</td>\n",
       "      <td>8.0</td>\n",
       "      <td>13.0</td>\n",
       "      <td>41</td>\n",
       "      <td>1.0</td>\n",
       "      <td>2191</td>\n",
       "      <td>2266.0</td>\n",
       "      <td>24.0</td>\n",
       "      <td>2903.782914</td>\n",
       "    </tr>\n",
       "    <tr>\n",
       "      <th>...</th>\n",
       "      <td>...</td>\n",
       "      <td>...</td>\n",
       "      <td>...</td>\n",
       "      <td>...</td>\n",
       "      <td>...</td>\n",
       "      <td>...</td>\n",
       "      <td>...</td>\n",
       "      <td>...</td>\n",
       "      <td>...</td>\n",
       "      <td>...</td>\n",
       "    </tr>\n",
       "    <tr>\n",
       "      <th>9353</th>\n",
       "      <td>70615</td>\n",
       "      <td>1</td>\n",
       "      <td>4.0</td>\n",
       "      <td>11.0</td>\n",
       "      <td>35</td>\n",
       "      <td>1.0</td>\n",
       "      <td>1758</td>\n",
       "      <td>1825.0</td>\n",
       "      <td>22.0</td>\n",
       "      <td>8117.554461</td>\n",
       "    </tr>\n",
       "    <tr>\n",
       "      <th>9354</th>\n",
       "      <td>70616</td>\n",
       "      <td>1</td>\n",
       "      <td>8.0</td>\n",
       "      <td>7.0</td>\n",
       "      <td>42</td>\n",
       "      <td>1.0</td>\n",
       "      <td>1741</td>\n",
       "      <td>1816.0</td>\n",
       "      <td>18.0</td>\n",
       "      <td>6842.240477</td>\n",
       "    </tr>\n",
       "    <tr>\n",
       "      <th>9355</th>\n",
       "      <td>70616</td>\n",
       "      <td>1</td>\n",
       "      <td>7.0</td>\n",
       "      <td>6.0</td>\n",
       "      <td>36</td>\n",
       "      <td>1.0</td>\n",
       "      <td>2091</td>\n",
       "      <td>2158.0</td>\n",
       "      <td>23.0</td>\n",
       "      <td>6842.240477</td>\n",
       "    </tr>\n",
       "    <tr>\n",
       "      <th>9356</th>\n",
       "      <td>70619</td>\n",
       "      <td>1</td>\n",
       "      <td>8.0</td>\n",
       "      <td>3.0</td>\n",
       "      <td>41</td>\n",
       "      <td>1.0</td>\n",
       "      <td>3450</td>\n",
       "      <td>3525.0</td>\n",
       "      <td>31.0</td>\n",
       "      <td>3856.253532</td>\n",
       "    </tr>\n",
       "    <tr>\n",
       "      <th>9357</th>\n",
       "      <td>70619</td>\n",
       "      <td>1</td>\n",
       "      <td>8.0</td>\n",
       "      <td>5.0</td>\n",
       "      <td>40</td>\n",
       "      <td>1.0</td>\n",
       "      <td>3683</td>\n",
       "      <td>3758.0</td>\n",
       "      <td>34.0</td>\n",
       "      <td>3856.253532</td>\n",
       "    </tr>\n",
       "  </tbody>\n",
       "</table>\n",
       "<p>9358 rows × 10 columns</p>\n",
       "</div>"
      ],
      "text/plain": [
       "      caseid  outcome  birthwgt_lb1  birthwgt_oz1  prglngth  nbrnaliv  agecon  \\\n",
       "0      60418        1           5.0           4.0        40       1.0    2000   \n",
       "1      60418        1           4.0          12.0        36       1.0    2291   \n",
       "2      60418        1           5.0           4.0        36       1.0    3241   \n",
       "3      60419        6           NaN           NaN        33       NaN    3650   \n",
       "4      60420        1           8.0          13.0        41       1.0    2191   \n",
       "...      ...      ...           ...           ...       ...       ...     ...   \n",
       "9353   70615        1           4.0          11.0        35       1.0    1758   \n",
       "9354   70616        1           8.0           7.0        42       1.0    1741   \n",
       "9355   70616        1           7.0           6.0        36       1.0    2091   \n",
       "9356   70619        1           8.0           3.0        41       1.0    3450   \n",
       "9357   70619        1           8.0           5.0        40       1.0    3683   \n",
       "\n",
       "      agepreg  hpagelb  wgt2013_2015  \n",
       "0      2075.0     22.0   3554.964843  \n",
       "1      2358.0     25.0   3554.964843  \n",
       "2      3308.0     52.0   3554.964843  \n",
       "3         NaN      NaN   2484.535358  \n",
       "4      2266.0     24.0   2903.782914  \n",
       "...       ...      ...           ...  \n",
       "9353   1825.0     22.0   8117.554461  \n",
       "9354   1816.0     18.0   6842.240477  \n",
       "9355   2158.0     23.0   6842.240477  \n",
       "9356   3525.0     31.0   3856.253532  \n",
       "9357   3758.0     34.0   3856.253532  \n",
       "\n",
       "[9358 rows x 10 columns]"
      ]
     },
     "execution_count": 27,
     "metadata": {},
     "output_type": "execute_result"
    }
   ],
   "source": [
    "df \n",
    "# 9258 rows \n",
    "# 10 columns"
   ]
  },
  {
   "cell_type": "code",
   "execution_count": 26,
   "id": "d4ac14b3",
   "metadata": {},
   "outputs": [
    {
     "data": {
      "text/plain": [
       "Index(['caseid', 'outcome', 'birthwgt_lb1', 'birthwgt_oz1', 'prglngth',\n",
       "       'nbrnaliv', 'agecon', 'agepreg', 'hpagelb', 'wgt2013_2015'],\n",
       "      dtype='object')"
      ]
     },
     "execution_count": 26,
     "metadata": {},
     "output_type": "execute_result"
    }
   ],
   "source": [
    "df.columns\n",
    "#index is a pandas data structure\n",
    "#treat it like a list"
   ]
  },
  {
   "cell_type": "code",
   "execution_count": 23,
   "id": "f448a792",
   "metadata": {},
   "outputs": [
    {
     "data": {
      "text/plain": [
       "'outcome'"
      ]
     },
     "execution_count": 23,
     "metadata": {},
     "output_type": "execute_result"
    }
   ],
   "source": [
    "df.columns[1]"
   ]
  },
  {
   "cell_type": "code",
   "execution_count": 24,
   "id": "e78761aa",
   "metadata": {},
   "outputs": [],
   "source": [
    "outcome = df[\"outcome\"]\n",
    "# here we have accessed the column using column name as the key"
   ]
  },
  {
   "cell_type": "code",
   "execution_count": 29,
   "id": "43af1d24",
   "metadata": {},
   "outputs": [
    {
     "data": {
      "text/plain": [
       "pandas.core.series.Series"
      ]
     },
     "execution_count": 29,
     "metadata": {},
     "output_type": "execute_result"
    }
   ],
   "source": [
    "type(outcome)\n",
    "#series is a pandas data structure\n",
    "# just like python list with some additional feature\n",
    "# when we print series we get the values with their index number"
   ]
  },
  {
   "cell_type": "code",
   "execution_count": 31,
   "id": "e996ddfc",
   "metadata": {},
   "outputs": [
    {
     "name": "stdout",
     "output_type": "stream",
     "text": [
      "0       1\n",
      "1       1\n",
      "2       1\n",
      "3       6\n",
      "4       1\n",
      "       ..\n",
      "9353    1\n",
      "9354    1\n",
      "9355    1\n",
      "9356    1\n",
      "9357    1\n",
      "Name: outcome, Length: 9358, dtype: int64\n"
     ]
    }
   ],
   "source": [
    "print(outcome)\n",
    "# last line includes variable name, series length and data type\n",
    "# int64 is a data type provided by numpy\n",
    "#64 here means 64 bits machine\n",
    "#if we were running this example in a 32 bit machine then the data type would be int32"
   ]
  },
  {
   "cell_type": "code",
   "execution_count": 32,
   "id": "61bcbe9f",
   "metadata": {},
   "outputs": [
    {
     "data": {
      "text/plain": [
       "6"
      ]
     },
     "execution_count": 32,
     "metadata": {},
     "output_type": "execute_result"
    }
   ],
   "source": [
    "# accessing elemnt using index\n",
    "outcome[3]"
   ]
  },
  {
   "cell_type": "code",
   "execution_count": 34,
   "id": "d88d8cdd",
   "metadata": {},
   "outputs": [
    {
     "data": {
      "text/plain": [
       "3    6\n",
       "4    1\n",
       "5    4\n",
       "Name: outcome, dtype: int64"
      ]
     },
     "execution_count": 34,
     "metadata": {},
     "output_type": "execute_result"
    }
   ],
   "source": [
    "# accessing elemnt using slice\n",
    "outcome[3:6]"
   ]
  },
  {
   "cell_type": "code",
   "execution_count": 35,
   "id": "ddd16cdb",
   "metadata": {},
   "outputs": [],
   "source": [
    "# we can also access the columns of a DF using dot notation\n",
    "outcome = df.outcome"
   ]
  },
  {
   "cell_type": "code",
   "execution_count": 37,
   "id": "1c336464",
   "metadata": {},
   "outputs": [
    {
     "name": "stdout",
     "output_type": "stream",
     "text": [
      "0       1\n",
      "1       1\n",
      "2       1\n",
      "3       6\n",
      "4       1\n",
      "       ..\n",
      "9353    1\n",
      "9354    1\n",
      "9355    1\n",
      "9356    1\n",
      "9357    1\n",
      "Name: outcome, Length: 9358, dtype: int64\n"
     ]
    }
   ],
   "source": [
    "print(outcome)"
   ]
  },
  {
   "cell_type": "code",
   "execution_count": 38,
   "id": "18d0508f",
   "metadata": {},
   "outputs": [
    {
     "data": {
      "text/plain": [
       "1.0    6379\n",
       "2.0     100\n",
       "3.0       5\n",
       "8.0       1\n",
       "Name: nbrnaliv, dtype: int64"
      ]
     },
     "execution_count": 38,
     "metadata": {},
     "output_type": "execute_result"
    }
   ],
   "source": [
    "# The number 8 in (nbrnaliv) column (number of babies born alive at the end of pregnancy) indicates that the repondent refused to answer\n",
    "df[\"nbrnaliv\"].value_counts()\n",
    "# We must replace it, the other values (1, 2, 3) indicate the number of babies"
   ]
  },
  {
   "cell_type": "code",
   "execution_count": 40,
   "id": "82cec3bc",
   "metadata": {},
   "outputs": [
    {
     "data": {
      "text/plain": [
       "1.0    6379\n",
       "2.0     100\n",
       "3.0       5\n",
       "Name: nbrnaliv, dtype: int64"
      ]
     },
     "execution_count": 40,
     "metadata": {},
     "output_type": "execute_result"
    }
   ],
   "source": [
    "# Replacing 8 with NaN\n",
    "df[\"nbrnaliv\"].replace(8, np.nan, inplace = True)\n",
    "df[\"nbrnaliv\"].value_counts()"
   ]
  },
  {
   "cell_type": "code",
   "execution_count": 41,
   "id": "1bc7e6aa",
   "metadata": {},
   "outputs": [
    {
     "data": {
      "text/plain": [
       "0.0        6\n",
       "1.0       34\n",
       "2.0       47\n",
       "3.0       67\n",
       "4.0      196\n",
       "5.0      586\n",
       "6.0     1666\n",
       "7.0     2146\n",
       "8.0     1168\n",
       "9.0      363\n",
       "10.0      82\n",
       "11.0      17\n",
       "12.0       7\n",
       "13.0       2\n",
       "14.0       2\n",
       "17.0       1\n",
       "98.0       1\n",
       "99.0      94\n",
       "Name: birthwgt_lb1, dtype: int64"
      ]
     },
     "execution_count": 41,
     "metadata": {},
     "output_type": "execute_result"
    }
   ],
   "source": [
    "pounds = df[\"birthwgt_lb1\"]\n",
    "pounds.value_counts().sort_index()\n",
    "# The most frequent values are 6-8 pounds, 98.0 and 99.0 indicate missing data"
   ]
  },
  {
   "cell_type": "code",
   "execution_count": 42,
   "id": "e37fd10e",
   "metadata": {},
   "outputs": [],
   "source": [
    "# Then we replace the 98.0 and 99.0 pounds with NaN to represent missing data\n",
    "pounds = pounds.replace([98, 99], np.nan)"
   ]
  },
  {
   "cell_type": "code",
   "execution_count": 43,
   "id": "43dc676c",
   "metadata": {},
   "outputs": [
    {
     "data": {
      "text/plain": [
       "0.0     757\n",
       "1.0     297\n",
       "2.0     429\n",
       "3.0     393\n",
       "4.0     386\n",
       "5.0     407\n",
       "6.0     543\n",
       "7.0     346\n",
       "8.0     518\n",
       "9.0     377\n",
       "10.0    295\n",
       "11.0    418\n",
       "12.0    388\n",
       "13.0    275\n",
       "14.0    258\n",
       "15.0    268\n",
       "98.0      1\n",
       "99.0     35\n",
       "Name: birthwgt_oz1, dtype: int64"
      ]
     },
     "execution_count": 43,
     "metadata": {},
     "output_type": "execute_result"
    }
   ],
   "source": [
    "# The same thing for ounces\n",
    "ounces = df[\"birthwgt_oz1\"]\n",
    "ounces.value_counts().sort_index()"
   ]
  },
  {
   "cell_type": "code",
   "execution_count": 44,
   "id": "6c9c6d73",
   "metadata": {},
   "outputs": [],
   "source": [
    "ounces = ounces.replace([98, 99], np.nan)"
   ]
  },
  {
   "cell_type": "code",
   "execution_count": 45,
   "id": "e0aa7679",
   "metadata": {},
   "outputs": [
    {
     "data": {
      "text/plain": [
       "count    6355.000000\n",
       "mean        7.120978\n",
       "std         1.422236\n",
       "min         0.000000\n",
       "25%         6.375000\n",
       "50%         7.187500\n",
       "75%         8.000000\n",
       "max        17.937500\n",
       "dtype: float64"
      ]
     },
     "execution_count": 45,
     "metadata": {},
     "output_type": "execute_result"
    }
   ],
   "source": [
    "# Calculating the total birth weight\n",
    "# 1 pound = 16 ounces\n",
    "birth_weight = pounds + (ounces / 16)\n",
    "# Some statistics about the total birth weight\n",
    "birth_weight.describe()"
   ]
  },
  {
   "cell_type": "code",
   "execution_count": 54,
   "id": "24177112",
   "metadata": {},
   "outputs": [],
   "source": [
    "from matplotlib import pyplot as plt\n",
    "from matplotlib import colors\n",
    "import seaborn as sns"
   ]
  },
  {
   "cell_type": "code",
   "execution_count": 55,
   "id": "b9963d47",
   "metadata": {},
   "outputs": [
    {
     "data": {
      "text/plain": [
       "<function matplotlib.pyplot.show(close=None, block=None)>"
      ]
     },
     "execution_count": 55,
     "metadata": {},
     "output_type": "execute_result"
    },
    {
     "data": {
      "image/png": "[encoded data removed]",
      "text/plain": [
       "<Figure size 1080x576 with 1 Axes>"
      ]
     },
     "metadata": {
      "needs_background": "light"
     },
     "output_type": "display_data"
    }
   ],
   "source": [
    "plt.hist(birth_weight.dropna(), bins=20)\n",
    "sns.set_style('whitegrid')\n",
    "plt.xlabel(\"Birth Weight (lb)\")\n",
    "plt.ylabel(\"Number of births\")\n",
    "plt.title(\"The distribution of birth weights (lb)\")\n",
    "plt.gcf().set_size_inches(15, 8)\n",
    "plt.show"
   ]
  },
  {
   "cell_type": "code",
   "execution_count": 50,
   "id": "aa5c329f",
   "metadata": {},
   "outputs": [
    {
     "data": {
      "text/html": [
       "<div>\n",
       "<style scoped>\n",
       "    .dataframe tbody tr th:only-of-type {\n",
       "        vertical-align: middle;\n",
       "    }\n",
       "\n",
       "    .dataframe tbody tr th {\n",
       "        vertical-align: top;\n",
       "    }\n",
       "\n",
       "    .dataframe thead th {\n",
       "        text-align: right;\n",
       "    }\n",
       "</style>\n",
       "<table border=\"1\" class=\"dataframe\">\n",
       "  <thead>\n",
       "    <tr style=\"text-align: right;\">\n",
       "      <th></th>\n",
       "      <th>caseid</th>\n",
       "      <th>outcome</th>\n",
       "      <th>birthwgt_lb1</th>\n",
       "      <th>birthwgt_oz1</th>\n",
       "      <th>prglngth</th>\n",
       "      <th>nbrnaliv</th>\n",
       "      <th>agecon</th>\n",
       "      <th>agepreg</th>\n",
       "      <th>hpagelb</th>\n",
       "      <th>wgt2013_2015</th>\n",
       "    </tr>\n",
       "  </thead>\n",
       "  <tbody>\n",
       "    <tr>\n",
       "      <th>count</th>\n",
       "      <td>9358.000000</td>\n",
       "      <td>9358.000000</td>\n",
       "      <td>6485.000000</td>\n",
       "      <td>6391.000000</td>\n",
       "      <td>9358.000000</td>\n",
       "      <td>6484.000000</td>\n",
       "      <td>9358.000000</td>\n",
       "      <td>9109.000000</td>\n",
       "      <td>6485.000000</td>\n",
       "      <td>9358.000000</td>\n",
       "    </tr>\n",
       "    <tr>\n",
       "      <th>mean</th>\n",
       "      <td>65502.392605</td>\n",
       "      <td>1.773990</td>\n",
       "      <td>8.055204</td>\n",
       "      <td>7.213895</td>\n",
       "      <td>29.896345</td>\n",
       "      <td>1.016965</td>\n",
       "      <td>2446.330199</td>\n",
       "      <td>2494.934570</td>\n",
       "      <td>28.992136</td>\n",
       "      <td>10759.200147</td>\n",
       "    </tr>\n",
       "    <tr>\n",
       "      <th>std</th>\n",
       "      <td>2953.471315</td>\n",
       "      <td>1.348648</td>\n",
       "      <td>11.178893</td>\n",
       "      <td>8.254885</td>\n",
       "      <td>13.685389</td>\n",
       "      <td>0.134989</td>\n",
       "      <td>579.392363</td>\n",
       "      <td>578.099231</td>\n",
       "      <td>10.367124</td>\n",
       "      <td>11400.179222</td>\n",
       "    </tr>\n",
       "    <tr>\n",
       "      <th>min</th>\n",
       "      <td>60418.000000</td>\n",
       "      <td>1.000000</td>\n",
       "      <td>0.000000</td>\n",
       "      <td>0.000000</td>\n",
       "      <td>0.000000</td>\n",
       "      <td>1.000000</td>\n",
       "      <td>750.000000</td>\n",
       "      <td>825.000000</td>\n",
       "      <td>5.000000</td>\n",
       "      <td>1859.105000</td>\n",
       "    </tr>\n",
       "    <tr>\n",
       "      <th>25%</th>\n",
       "      <td>62875.750000</td>\n",
       "      <td>1.000000</td>\n",
       "      <td>6.000000</td>\n",
       "      <td>3.000000</td>\n",
       "      <td>14.000000</td>\n",
       "      <td>1.000000</td>\n",
       "      <td>1983.000000</td>\n",
       "      <td>2041.000000</td>\n",
       "      <td>23.000000</td>\n",
       "      <td>4340.053407</td>\n",
       "    </tr>\n",
       "    <tr>\n",
       "      <th>50%</th>\n",
       "      <td>65499.000000</td>\n",
       "      <td>1.000000</td>\n",
       "      <td>7.000000</td>\n",
       "      <td>6.000000</td>\n",
       "      <td>38.000000</td>\n",
       "      <td>1.000000</td>\n",
       "      <td>2366.000000</td>\n",
       "      <td>2416.000000</td>\n",
       "      <td>27.000000</td>\n",
       "      <td>7062.994158</td>\n",
       "    </tr>\n",
       "    <tr>\n",
       "      <th>75%</th>\n",
       "      <td>68111.000000</td>\n",
       "      <td>2.000000</td>\n",
       "      <td>8.000000</td>\n",
       "      <td>11.000000</td>\n",
       "      <td>39.000000</td>\n",
       "      <td>1.000000</td>\n",
       "      <td>2850.000000</td>\n",
       "      <td>2900.000000</td>\n",
       "      <td>33.000000</td>\n",
       "      <td>12629.322982</td>\n",
       "    </tr>\n",
       "    <tr>\n",
       "      <th>max</th>\n",
       "      <td>70619.000000</td>\n",
       "      <td>6.000000</td>\n",
       "      <td>99.000000</td>\n",
       "      <td>99.000000</td>\n",
       "      <td>48.000000</td>\n",
       "      <td>3.000000</td>\n",
       "      <td>4350.000000</td>\n",
       "      <td>4350.000000</td>\n",
       "      <td>99.000000</td>\n",
       "      <td>75399.410000</td>\n",
       "    </tr>\n",
       "  </tbody>\n",
       "</table>\n",
       "</div>"
      ],
      "text/plain": [
       "             caseid      outcome  birthwgt_lb1  birthwgt_oz1     prglngth  \\\n",
       "count   9358.000000  9358.000000   6485.000000   6391.000000  9358.000000   \n",
       "mean   65502.392605     1.773990      8.055204      7.213895    29.896345   \n",
       "std     2953.471315     1.348648     11.178893      8.254885    13.685389   \n",
       "min    60418.000000     1.000000      0.000000      0.000000     0.000000   \n",
       "25%    62875.750000     1.000000      6.000000      3.000000    14.000000   \n",
       "50%    65499.000000     1.000000      7.000000      6.000000    38.000000   \n",
       "75%    68111.000000     2.000000      8.000000     11.000000    39.000000   \n",
       "max    70619.000000     6.000000     99.000000     99.000000    48.000000   \n",
       "\n",
       "          nbrnaliv       agecon      agepreg      hpagelb  wgt2013_2015  \n",
       "count  6484.000000  9358.000000  9109.000000  6485.000000   9358.000000  \n",
       "mean      1.016965  2446.330199  2494.934570    28.992136  10759.200147  \n",
       "std       0.134989   579.392363   578.099231    10.367124  11400.179222  \n",
       "min       1.000000   750.000000   825.000000     5.000000   1859.105000  \n",
       "25%       1.000000  1983.000000  2041.000000    23.000000   4340.053407  \n",
       "50%       1.000000  2366.000000  2416.000000    27.000000   7062.994158  \n",
       "75%       1.000000  2850.000000  2900.000000    33.000000  12629.322982  \n",
       "max       3.000000  4350.000000  4350.000000    99.000000  75399.410000  "
      ]
     },
     "execution_count": 50,
     "metadata": {},
     "output_type": "execute_result"
    }
   ],
   "source": [
    "df.describe()"
   ]
  },
  {
   "cell_type": "markdown",
   "id": "ee961e9a",
   "metadata": {},
   "source": [
    "### Does Pre-term and Full-term babies have different weights ?\n",
    "Pre-term Babies : Babies born before 37 weeks are considered pre-term, more commonly known as premature.\n",
    "\n",
    "Full-term Babies : Babies those are born after 37 weeks are considered as full-term."
   ]
  },
  {
   "cell_type": "code",
   "execution_count": 59,
   "id": "12edfa25",
   "metadata": {},
   "outputs": [
    {
     "name": "stdout",
     "output_type": "stream",
     "text": [
      "\n",
      "Average Weight of all preterm babies : 5.577598314606742 lb\n",
      "\n",
      "Average Weight of all full term babies : 7.372323879231473 lb\n"
     ]
    }
   ],
   "source": [
    "preterm = df['prglngth']<37\n",
    "\n",
    "print(f'\\nAverage Weight of all preterm babies : {birth_weight[preterm].mean()} lb\\n')\n",
    "\n",
    "print(f'Average Weight of all full term babies : {birth_weight[~preterm].mean()} lb')\n",
    "\n",
    "#We can infer that the full-term babies have more weight than the pre-term babies."
   ]
  },
  {
   "cell_type": "markdown",
   "id": "7f40fd87",
   "metadata": {},
   "source": [
    "### What is the percentage of Induced abortion and Miscarriage in USA ?"
   ]
  },
  {
   "cell_type": "code",
   "execution_count": 62,
   "id": "fc63f1ed",
   "metadata": {},
   "outputs": [
    {
     "data": {
      "image/png": "[encoded data removed]",
      "text/plain": [
       "<Figure size 1080x1080 with 1 Axes>"
      ]
     },
     "metadata": {},
     "output_type": "display_data"
    }
   ],
   "source": [
    "outcome = df['outcome'].value_counts().sort_index()\n",
    "label = ['Live birth','Induced abortion','Stillbirth','Miscarriage','Ectopic pregnancy','Current pregnancy']\n",
    "\n",
    "fig, ax = plt.subplots(1, figsize=(15, 15))\n",
    "ax.pie(outcome, autopct='%1.2f%%', textprops={'fontsize': 18})\n",
    "plt.legend(label,prop={'size': 14})\n",
    "plt.show()"
   ]
  },
  {
   "cell_type": "markdown",
   "id": "0c104839",
   "metadata": {},
   "source": [
    "### Are most of the Multiple born babies (like twins) are Pre-term babies ?"
   ]
  },
  {
   "cell_type": "code",
   "execution_count": 70,
   "id": "f25c6fb0",
   "metadata": {},
   "outputs": [],
   "source": [
    "single = df['nbrnaliv'] == 1\n",
    "single_preterm = (preterm & single).sum() # single born Pre-term babies\n",
    "single_fullterm = (~preterm & single).sum() # single born Full-term babies\n",
    "total_single = single_preterm + single_fullterm\n",
    "\n",
    "multiple_preterm = (preterm & ~single).sum() # Multiple born Pre-term babies\n",
    "multiple_fullterm = (~preterm & ~single).sum() # Multiple born Full-term babies\n",
    "total_multiple = multiple_preterm + multiple_fullterm"
   ]
  },
  {
   "cell_type": "code",
   "execution_count": 83,
   "id": "41cbd02a",
   "metadata": {},
   "outputs": [
    {
     "data": {
      "text/plain": [
       "850"
      ]
     },
     "execution_count": 83,
     "metadata": {},
     "output_type": "execute_result"
    }
   ],
   "source": [
    "single_preterm"
   ]
  },
  {
   "cell_type": "code",
   "execution_count": 86,
   "id": "0ff441d7",
   "metadata": {},
   "outputs": [
    {
     "data": {
      "text/plain": [
       "5529"
      ]
     },
     "execution_count": 86,
     "metadata": {},
     "output_type": "execute_result"
    }
   ],
   "source": [
    "single_fullterm"
   ]
  },
  {
   "cell_type": "code",
   "execution_count": 84,
   "id": "d8b3134c",
   "metadata": {},
   "outputs": [
    {
     "data": {
      "text/plain": [
       "87"
      ]
     },
     "execution_count": 84,
     "metadata": {},
     "output_type": "execute_result"
    }
   ],
   "source": [
    "multiple_fullterm"
   ]
  },
  {
   "cell_type": "code",
   "execution_count": 85,
   "id": "79a2a576",
   "metadata": {},
   "outputs": [
    {
     "data": {
      "text/plain": [
       "2892"
      ]
     },
     "execution_count": 85,
     "metadata": {},
     "output_type": "execute_result"
    }
   ],
   "source": [
    "multiple_preterm"
   ]
  },
  {
   "cell_type": "code",
   "execution_count": 92,
   "id": "89c24f2c",
   "metadata": {},
   "outputs": [
    {
     "ename": "TypeError",
     "evalue": "'list' object is not callable",
     "output_type": "error",
     "traceback": [
      "\u001b[0;31m---------------------------------------------------------------------------\u001b[0m",
      "\u001b[0;31mTypeError\u001b[0m                                 Traceback (most recent call last)",
      "\u001b[0;32m/tmp/ipykernel_10154/531285514.py\u001b[0m in \u001b[0;36m<module>\u001b[0;34m\u001b[0m\n\u001b[1;32m      2\u001b[0m \u001b[0;34m\u001b[0m\u001b[0m\n\u001b[1;32m      3\u001b[0m \u001b[0mcmap\u001b[0m \u001b[0;34m=\u001b[0m \u001b[0mplt\u001b[0m\u001b[0;34m.\u001b[0m\u001b[0mcolormaps\u001b[0m\u001b[0;34m(\u001b[0m\u001b[0;34m)\u001b[0m\u001b[0;34m\u001b[0m\u001b[0;34m\u001b[0m\u001b[0m\n\u001b[0;32m----> 4\u001b[0;31m \u001b[0mouter_colors\u001b[0m \u001b[0;34m=\u001b[0m \u001b[0mcmap\u001b[0m\u001b[0;34m(\u001b[0m\u001b[0mnp\u001b[0m\u001b[0;34m.\u001b[0m\u001b[0marange\u001b[0m\u001b[0;34m(\u001b[0m\u001b[0;36m3\u001b[0m\u001b[0;34m)\u001b[0m\u001b[0;34m*\u001b[0m\u001b[0;36m4\u001b[0m\u001b[0;34m)\u001b[0m\u001b[0;34m\u001b[0m\u001b[0;34m\u001b[0m\u001b[0m\n\u001b[0m\u001b[1;32m      5\u001b[0m ax.pie([total_single, total_multiple], radius=1,\n\u001b[1;32m      6\u001b[0m                                    colors=outer_colors, autopct='%1.2f%%', textprops={'fontsize': 18})\n",
      "\u001b[0;31mTypeError\u001b[0m: 'list' object is not callable"
     ]
    },
    {
     "data": {
      "image/png": "[encoded data removed]",
      "text/plain": [
       "<Figure size 1080x1080 with 1 Axes>"
      ]
     },
     "metadata": {},
     "output_type": "display_data"
    }
   ],
   "source": [
    "fig,ax = plt.subplots(1,figsize = (15,15))\n",
    "\n",
    "cmap = plt.colormaps()\n",
    "outer_colors = cmap(np.arange(3)*4)\n",
    "ax.pie([total_single, total_multiple], radius=1,\n",
    "                                   colors=outer_colors, autopct='%1.2f%%', textprops={'fontsize': 18})\n",
    "\n",
    "ax.pie([single_preterm, single_fullterm, multiple_preterm,\n",
    "                                    multiple_fullterm], radius=0.4, colors=inner_colors, autopct='%1.2f%%', textprops={'fontsize': 14})\n",
    "plt.legend(label, prop={'size': 14})\n",
    "plt.show()"
   ]
  },
  {
   "cell_type": "code",
   "execution_count": null,
   "id": "f3250fca",
   "metadata": {},
   "outputs": [],
   "source": []
  }
 ],
 "metadata": {
  "kernelspec": {
   "display_name": "Python 3 (ipykernel)",
   "language": "python",
   "name": "python3"
  },
  "language_info": {
   "codemirror_mode": {
    "name": "ipython",
    "version": 3
   },
   "file_extension": ".py",
   "mimetype": "text/x-python",
   "name": "python",
   "nbconvert_exporter": "python",
   "pygments_lexer": "ipython3",
   "version": "3.9.7"
  }
 },
 "nbformat": 4,
 "nbformat_minor": 5
}
